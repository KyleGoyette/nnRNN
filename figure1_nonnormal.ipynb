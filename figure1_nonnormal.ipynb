{
 "cells": [
  {
   "cell_type": "code",
   "execution_count": 1,
   "metadata": {
    "scrolled": true
   },
   "outputs": [
    {
     "data": {
      "text/html": [
       "<style>.container { width:100% !important; }</style>"
      ],
      "text/plain": [
       "<IPython.core.display.HTML object>"
      ]
     },
     "metadata": {},
     "output_type": "display_data"
    }
   ],
   "source": [
    "import numpy as np\n",
    "import scipy.linalg as la\n",
    "import matplotlib.pyplot as pl\n",
    "pl.rc(\"figure\", facecolor=\"gray\")\n",
    "pl.rc('text', usetex=True)\n",
    "from IPython.core.display import display, HTML\n",
    "display(HTML(\"<style>.container { width:100% !important; }</style>\"))\n",
    "import seaborn as sns\n",
    "import pandas as pd\n",
    "sns.set()\n",
    "sns.set_style(\"whitegrid\",{'axes.grid' : True,'axes.edgecolor' : 'k'})"
   ]
  },
  {
   "cell_type": "markdown",
   "metadata": {},
   "source": [
    "build lower triangular matrix"
   ]
  },
  {
   "cell_type": "code",
   "execution_count": 2,
   "metadata": {
    "scrolled": false
   },
   "outputs": [
    {
     "data": {
      "text/plain": [
       "array([[1., 0., 0., 0.],\n",
       "       [2., 1., 0., 0.],\n",
       "       [3., 2., 1., 0.],\n",
       "       [3., 3., 2., 1.]])"
      ]
     },
     "execution_count": 2,
     "metadata": {},
     "output_type": "execute_result"
    }
   ],
   "source": [
    "def make_theta(diag_value,delay_value,triag_value,N):\n",
    "    return np.diag([diag_value]*N,k=0)+np.diag([delay_value]*(N-1),k=-1)+np.tril(triag_value*np.ones((N,N)),k=-2)\n",
    "make_theta(1,2,3,4)"
   ]
  },
  {
   "cell_type": "code",
   "execution_count": 3,
   "metadata": {},
   "outputs": [],
   "source": [
    "N=100 #network size"
   ]
  },
  {
   "cell_type": "markdown",
   "metadata": {},
   "source": [
    "Create initial condition ensemble approximately uniform on unit hypersphere:"
   ]
  },
  {
   "cell_type": "code",
   "execution_count": 4,
   "metadata": {
    "scrolled": true
   },
   "outputs": [
    {
     "data": {
      "image/png": "[encoded data removed]",
      "text/plain": [
       "<Figure size 432x288 with 1 Axes>"
      ]
     },
     "metadata": {
      "needs_background": "light"
     },
     "output_type": "display_data"
    }
   ],
   "source": [
    "num_points=1000\n",
    "np.random.seed(4)\n",
    "x0_data=np.random.randn(num_points*N).reshape((N,num_points))\n",
    "x0_data=x0_data/(la.norm(x0_data,axis=0)[np.newaxis,:])\n",
    "# print(\"init |data\")\n",
    "# print(x0_data)\n",
    "fig,ax=pl.subplots(1,1)\n",
    "ax.scatter(x0_data[0,:],x0_data[1,:]) #plot 2D projection\n",
    "r=1.0\n",
    "xvec=np.linspace(-r,r,1000)\n",
    "ax.plot(xvec,np.sqrt(r**2-xvec**2),'r')\n",
    "ax.plot(xvec,-np.sqrt(r**2-xvec**2),'r')\n",
    "ax.set_ylim(ax.get_xlim())\n",
    "ax.set_aspect(aspect=1.0/ax.get_data_ratio())"
   ]
  },
  {
   "cell_type": "markdown",
   "metadata": {},
   "source": [
    "Plot transients over various matrices"
   ]
  },
  {
   "cell_type": "code",
   "execution_count": 5,
   "metadata": {
    "scrolled": true
   },
   "outputs": [
    {
     "data": {
      "text/html": [
       "<div>\n",
       "<style scoped>\n",
       "    .dataframe tbody tr th:only-of-type {\n",
       "        vertical-align: middle;\n",
       "    }\n",
       "\n",
       "    .dataframe tbody tr th {\n",
       "        vertical-align: top;\n",
       "    }\n",
       "\n",
       "    .dataframe thead th {\n",
       "        text-align: right;\n",
       "    }\n",
       "</style>\n",
       "<table border=\"1\" class=\"dataframe\">\n",
       "  <thead>\n",
       "    <tr style=\"text-align: right;\">\n",
       "      <th></th>\n",
       "      <th>iter</th>\n",
       "      <th>x</th>\n",
       "      <th>$\\alpha$</th>\n",
       "      <th>$\\beta$</th>\n",
       "    </tr>\n",
       "  </thead>\n",
       "  <tbody>\n",
       "    <tr>\n",
       "      <th>0</th>\n",
       "      <td>0</td>\n",
       "      <td>0.095557</td>\n",
       "      <td>0.95</td>\n",
       "      <td>0.0</td>\n",
       "    </tr>\n",
       "    <tr>\n",
       "      <th>1</th>\n",
       "      <td>0</td>\n",
       "      <td>0.099261</td>\n",
       "      <td>0.95</td>\n",
       "      <td>0.0</td>\n",
       "    </tr>\n",
       "    <tr>\n",
       "      <th>2</th>\n",
       "      <td>0</td>\n",
       "      <td>0.097620</td>\n",
       "      <td>0.95</td>\n",
       "      <td>0.0</td>\n",
       "    </tr>\n",
       "    <tr>\n",
       "      <th>3</th>\n",
       "      <td>0</td>\n",
       "      <td>0.100146</td>\n",
       "      <td>0.95</td>\n",
       "      <td>0.0</td>\n",
       "    </tr>\n",
       "    <tr>\n",
       "      <th>4</th>\n",
       "      <td>0</td>\n",
       "      <td>0.098375</td>\n",
       "      <td>0.95</td>\n",
       "      <td>0.0</td>\n",
       "    </tr>\n",
       "  </tbody>\n",
       "</table>\n",
       "</div>"
      ],
      "text/plain": [
       "   iter         x  $\\alpha$  $\\beta$\n",
       "0     0  0.095557      0.95      0.0\n",
       "1     0  0.099261      0.95      0.0\n",
       "2     0  0.097620      0.95      0.0\n",
       "3     0  0.100146      0.95      0.0\n",
       "4     0  0.098375      0.95      0.0"
      ]
     },
     "execution_count": 5,
     "metadata": {},
     "output_type": "execute_result"
    }
   ],
   "source": [
    "d=0\n",
    "avec=[0.95,1.0,1.05]\n",
    "bvec=[0,0.005]\n",
    "num_steps=150\n",
    "df_std_all=pd.DataFrame()\n",
    "df_norm_all=pd.DataFrame()\n",
    "for b in bvec:\n",
    "    for a in avec:\n",
    "        df_std=pd.DataFrame(np.array([np.std(np.linalg.matrix_power(make_theta(d,a,b,N),k) @ x0_data,axis=1) for k in np.arange(num_steps)]).T,columns=(np.arange(num_steps)).tolist()).melt(var_name='iter',value_name='x')              \n",
    "        df_norm=pd.DataFrame(np.array([la.norm(np.linalg.matrix_power(make_theta(d,a,b,N),k) @ x0_data,axis=0) for k in np.arange(num_steps)]).T,columns=(np.arange(num_steps)).tolist()).melt(var_name='iter',value_name='x')              \n",
    "        df_std[r'$\\alpha$']=a\n",
    "        df_std[r'$\\beta$']=b\n",
    "        df_norm[r'$\\alpha$']=a\n",
    "        df_norm[r'$\\beta$']=b\n",
    "        df_std_all=df_std_all.append(df_std).reset_index(drop=True)\n",
    "        df_norm_all=df_norm_all.append(df_norm).reset_index(drop=True)\n",
    "df_std_all.head()"
   ]
  },
  {
   "cell_type": "code",
   "execution_count": 6,
   "metadata": {
    "scrolled": true
   },
   "outputs": [
    {
     "data": {
      "text/plain": [
       "<matplotlib.legend.Legend at 0x1e72d2fe400>"
      ]
     },
     "execution_count": 6,
     "metadata": {},
     "output_type": "execute_result"
    },
    {
     "data": {
      "image/png": "[encoded data removed]",
      "text/plain": [
       "<Figure size 144x180 with 2 Axes>"
      ]
     },
     "metadata": {
      "needs_background": "light"
     },
     "output_type": "display_data"
    }
   ],
   "source": [
    "fig,ax=pl.subplots(2,1,figsize=(2.0,2.5))#ensemble statistics\n",
    "dfs=(df_std_all,df_norm_all)\n",
    "leg_str=(False,'full')\n",
    "tmax=125 if d==0 else num_steps\n",
    "xticklabels=[0,25,50,75,100,125]\n",
    "yticklabels=[1e-2,1e0,1e2]\n",
    "\n",
    "for pit,df in enumerate(dfs):\n",
    "    ax[pit].set(yscale=\"log\")\n",
    "    sns.lineplot(ax=ax[pit],x='iter',y='x',data=df,style=r'$\\alpha$',hue=r'$\\beta$',ci='sd',legend=leg_str[pit],palette=sns.color_palette(\"colorblind\", 2))\n",
    "    ax[pit].set_ylim(2.3e-5,2.3e2)\n",
    "    ax[pit].set_xlim(0,tmax)\n",
    "    ax[pit].set_xticks(xticklabels)\n",
    "    ax[pit].set_yticks(yticklabels)\n",
    "ax[0].set_xticklabels([])\n",
    "ax[0].set_xlabel('')\n",
    "ax[0].set_ylabel(r'$\\sigma_{h^i_t}$')\n",
    "ax[pit].set_ylabel(r'$\\left|\\left|h_t\\right|\\right|$')\n",
    "ax[pit].set_xticklabels([r'$0$' ,'',r'$50$','',r'$100$',''])\n",
    "ax[pit].set_xlabel(r'$t$');\n",
    "ax[pit].legend(bbox_to_anchor=(1.0,2.1),frameon=False)\n",
    "# fig.savefig('fig1_theory_panelb_d0.pdf',format='pdf',dpi=300,bbox_inches='tight')"
   ]
  },
  {
   "cell_type": "markdown",
   "metadata": {},
   "source": [
    "Plot Fisher memory curves"
   ]
  },
  {
   "cell_type": "code",
   "execution_count": 7,
   "metadata": {},
   "outputs": [],
   "source": [
    "def compute_Jk(alpha,beta,rho,n_steps,num_steps,N):\n",
    "    M = rho * np.eye(N)\n",
    "    for i in range(N-1):\n",
    "        M[i+1,i] = alpha\n",
    "    for i in range(N-2):\n",
    "        for j in range(i+1):\n",
    "            M[i+2,j] = beta\n",
    "    M_k = M.copy()\n",
    "    e_k = np.zeros((4*N+1,N))\n",
    "    e_k[0,0] = 1\n",
    "    C_n = np.eye(N)\n",
    "    for t in range(4*N): \n",
    "        e_k[t+1,:] = M.dot(e_k[t,:])\n",
    "    M_k = M.copy()\n",
    "    for t in range(n_steps):\n",
    "        C_n = M.dot(C_n).dot(M.T) + np.eye(N)\n",
    "    J_tot=0\n",
    "    J = np.zeros(num_steps)\n",
    "    for i in range(num_steps):\n",
    "        J[i] = np.sum(e_k[i,:] * np.linalg.solve(C_n,e_k[i,:]))\n",
    "        J_tot += J[i]\n",
    "    return J"
   ]
  },
  {
   "cell_type": "code",
   "execution_count": 8,
   "metadata": {
    "scrolled": true
   },
   "outputs": [
    {
     "name": "stdout",
     "output_type": "stream",
     "text": [
      "J_tot: 20.32295558140331, alpha: 1.05, beta: 0.005, d: 0.2\n",
      "J_tot: 12.086536304234857, alpha: 1.05, beta: 0.005, d: 0\n",
      "J_tot: 20.328096176553625, alpha: 1.05, beta: 0, d: 0.2\n",
      "J_tot: 12.08727212122481, alpha: 1.05, beta: 0, d: 0\n",
      "J_tot: 16.1637115854401, alpha: 1.0, beta: 0.005, d: 0.2\n",
      "J_tot: 5.301425802978977, alpha: 1.0, beta: 0.005, d: 0\n",
      "J_tot: 17.132327989761464, alpha: 1.0, beta: 0, d: 0.2\n",
      "J_tot: 5.18737751763962, alpha: 1.0, beta: 0, d: 0\n",
      "J_tot: 12.094319320360942, alpha: 0.95, beta: 0.005, d: 0.2\n",
      "J_tot: 3.175767594604019, alpha: 0.95, beta: 0.005, d: 0\n",
      "J_tot: 11.939270436426913, alpha: 0.95, beta: 0, d: 0.2\n",
      "J_tot: 3.0327020748310467, alpha: 0.95, beta: 0, d: 0\n"
     ]
    }
   ],
   "source": [
    "dvec=[0,0.2]\n",
    "n_steps=int(1e4)\n",
    "J_store=np.empty((len(avec),len(bvec),len(dvec)),dtype=object)\n",
    "for ait,alpha in enumerate(avec[::-1]):\n",
    "    for bit,beta in enumerate(bvec[::-1]):\n",
    "        for dit,d in enumerate(dvec[::-1]):\n",
    "            J_store[ait,bit,dit] = compute_Jk(alpha,beta,d,n_steps,num_steps,N)\n",
    "            print(f\"J_tot: {np.sum(J_store[ait,bit,dit])}, alpha: {alpha}, beta: {beta}, d: {d}\" )"
   ]
  },
  {
   "cell_type": "code",
   "execution_count": 9,
   "metadata": {
    "scrolled": false
   },
   "outputs": [
    {
     "data": {
      "image/png": "[encoded data removed]",
      "text/plain": [
       "<Figure size 180x180 with 1 Axes>"
      ]
     },
     "metadata": {
      "needs_background": "light"
     },
     "output_type": "display_data"
    }
   ],
   "source": [
    "mkr=['^','s']\n",
    "sty=[':','--','-']\n",
    "col=sns.color_palette(\"colorblind\", 2)[::-1]\n",
    "\n",
    "fig,ax=pl.subplots(1,1,figsize=(2.5,2.5))\n",
    "for ait,alpha in enumerate(avec[::-1]):\n",
    "    for bit,beta in enumerate(bvec[::-1]):\n",
    "        for dit,d in enumerate(dvec[::-1]):\n",
    "            ax.semilogy(J_store[ait,bit,dit],linestyle=sty[ait],\n",
    "                         marker=mkr[dit],color=col[bit],\n",
    "                         markevery=(int(29*np.random.rand(1)),30))\n",
    "ax.set_ylim([5*1e-3,1])\n",
    "# ax.set_ylim([5*1e-6,1])\n",
    "ax.set_xlim([0,150])\n",
    "ax.set_xlabel(r\"$t$\")\n",
    "ax.set_ylabel(r\"$J(t)$\");\n",
    "# fig.savefig(\"J_tt.pdf\",bbox_inches='tight')"
   ]
  }
 ],
 "metadata": {
  "kernelspec": {
   "display_name": "Python 3",
   "language": "python",
   "name": "python3"
  },
  "language_info": {
   "codemirror_mode": {
    "name": "ipython",
    "version": 3
   },
   "file_extension": ".py",
   "mimetype": "text/x-python",
   "name": "python",
   "nbconvert_exporter": "python",
   "pygments_lexer": "ipython3",
   "version": "3.7.3"
  }
 },
 "nbformat": 4,
 "nbformat_minor": 2
}
